{
  "cells": [
    {
      "cell_type": "markdown",
      "metadata": {
        "id": "C192SOmJS6lw"
      },
      "source": [
        "# CS 195: Natural Language Processing\n",
        "## Question Answering\n",
        "\n",
        "[![Open In Colab](https://colab.research.google.com/assets/colab-badge.svg)](https://colab.research.google.com/github/ericmanley/f23-CS195NLP/blob/main/F2_3_QuestionAnswering.ipynb)\n"
      ]
    },
    {
      "cell_type": "markdown",
      "metadata": {
        "id": "sgM0J69E0Rww"
      },
      "source": [
        "## References\n",
        "\n",
        "Hugging Face Task Guide on Question Answering: https://huggingface.co/docs/transformers/tasks/question_answering\n"
      ]
    },
    {
      "cell_type": "markdown",
      "metadata": {
        "id": "nqVV4O2w0Rwx"
      },
      "source": [
        "## Installing necessary modules"
      ]
    },
    {
      "cell_type": "code",
      "execution_count": 54,
      "metadata": {
        "id": "sYehg9JY0Rwx",
        "outputId": "86208d08-f180-428b-f54f-c733bf1b53ef",
        "colab": {
          "base_uri": "https://localhost:8080/"
        }
      },
      "outputs": [
        {
          "output_type": "stream",
          "name": "stdout",
          "text": [
            "Requirement already satisfied: transformers in /usr/local/lib/python3.10/dist-packages (4.33.2)\n",
            "Requirement already satisfied: datasets in /usr/local/lib/python3.10/dist-packages (2.14.5)\n",
            "Requirement already satisfied: evaluate in /usr/local/lib/python3.10/dist-packages (0.4.0)\n",
            "Requirement already satisfied: rouge_score in /usr/local/lib/python3.10/dist-packages (0.1.2)\n",
            "Requirement already satisfied: filelock in /usr/local/lib/python3.10/dist-packages (from transformers) (3.12.2)\n",
            "Requirement already satisfied: huggingface-hub<1.0,>=0.15.1 in /usr/local/lib/python3.10/dist-packages (from transformers) (0.17.2)\n",
            "Requirement already satisfied: numpy>=1.17 in /usr/local/lib/python3.10/dist-packages (from transformers) (1.23.5)\n",
            "Requirement already satisfied: packaging>=20.0 in /usr/local/lib/python3.10/dist-packages (from transformers) (23.1)\n",
            "Requirement already satisfied: pyyaml>=5.1 in /usr/local/lib/python3.10/dist-packages (from transformers) (6.0.1)\n",
            "Requirement already satisfied: regex!=2019.12.17 in /usr/local/lib/python3.10/dist-packages (from transformers) (2023.6.3)\n",
            "Requirement already satisfied: requests in /usr/local/lib/python3.10/dist-packages (from transformers) (2.31.0)\n",
            "Requirement already satisfied: tokenizers!=0.11.3,<0.14,>=0.11.1 in /usr/local/lib/python3.10/dist-packages (from transformers) (0.13.3)\n",
            "Requirement already satisfied: safetensors>=0.3.1 in /usr/local/lib/python3.10/dist-packages (from transformers) (0.3.3)\n",
            "Requirement already satisfied: tqdm>=4.27 in /usr/local/lib/python3.10/dist-packages (from transformers) (4.66.1)\n",
            "Requirement already satisfied: pyarrow>=8.0.0 in /usr/local/lib/python3.10/dist-packages (from datasets) (9.0.0)\n",
            "Requirement already satisfied: dill<0.3.8,>=0.3.0 in /usr/local/lib/python3.10/dist-packages (from datasets) (0.3.7)\n",
            "Requirement already satisfied: pandas in /usr/local/lib/python3.10/dist-packages (from datasets) (1.5.3)\n",
            "Requirement already satisfied: xxhash in /usr/local/lib/python3.10/dist-packages (from datasets) (3.3.0)\n",
            "Requirement already satisfied: multiprocess in /usr/local/lib/python3.10/dist-packages (from datasets) (0.70.15)\n",
            "Requirement already satisfied: fsspec[http]<2023.9.0,>=2023.1.0 in /usr/local/lib/python3.10/dist-packages (from datasets) (2023.6.0)\n",
            "Requirement already satisfied: aiohttp in /usr/local/lib/python3.10/dist-packages (from datasets) (3.8.5)\n",
            "Requirement already satisfied: responses<0.19 in /usr/local/lib/python3.10/dist-packages (from evaluate) (0.18.0)\n",
            "Requirement already satisfied: absl-py in /usr/local/lib/python3.10/dist-packages (from rouge_score) (1.4.0)\n",
            "Requirement already satisfied: nltk in /usr/local/lib/python3.10/dist-packages (from rouge_score) (3.8.1)\n",
            "Requirement already satisfied: six>=1.14.0 in /usr/local/lib/python3.10/dist-packages (from rouge_score) (1.16.0)\n",
            "Requirement already satisfied: attrs>=17.3.0 in /usr/local/lib/python3.10/dist-packages (from aiohttp->datasets) (23.1.0)\n",
            "Requirement already satisfied: charset-normalizer<4.0,>=2.0 in /usr/local/lib/python3.10/dist-packages (from aiohttp->datasets) (3.2.0)\n",
            "Requirement already satisfied: multidict<7.0,>=4.5 in /usr/local/lib/python3.10/dist-packages (from aiohttp->datasets) (6.0.4)\n",
            "Requirement already satisfied: async-timeout<5.0,>=4.0.0a3 in /usr/local/lib/python3.10/dist-packages (from aiohttp->datasets) (4.0.3)\n",
            "Requirement already satisfied: yarl<2.0,>=1.0 in /usr/local/lib/python3.10/dist-packages (from aiohttp->datasets) (1.9.2)\n",
            "Requirement already satisfied: frozenlist>=1.1.1 in /usr/local/lib/python3.10/dist-packages (from aiohttp->datasets) (1.4.0)\n",
            "Requirement already satisfied: aiosignal>=1.1.2 in /usr/local/lib/python3.10/dist-packages (from aiohttp->datasets) (1.3.1)\n",
            "Requirement already satisfied: typing-extensions>=3.7.4.3 in /usr/local/lib/python3.10/dist-packages (from huggingface-hub<1.0,>=0.15.1->transformers) (4.5.0)\n",
            "Requirement already satisfied: idna<4,>=2.5 in /usr/local/lib/python3.10/dist-packages (from requests->transformers) (3.4)\n",
            "Requirement already satisfied: urllib3<3,>=1.21.1 in /usr/local/lib/python3.10/dist-packages (from requests->transformers) (2.0.4)\n",
            "Requirement already satisfied: certifi>=2017.4.17 in /usr/local/lib/python3.10/dist-packages (from requests->transformers) (2023.7.22)\n",
            "Requirement already satisfied: click in /usr/local/lib/python3.10/dist-packages (from nltk->rouge_score) (8.1.7)\n",
            "Requirement already satisfied: joblib in /usr/local/lib/python3.10/dist-packages (from nltk->rouge_score) (1.3.2)\n",
            "Requirement already satisfied: python-dateutil>=2.8.1 in /usr/local/lib/python3.10/dist-packages (from pandas->datasets) (2.8.2)\n",
            "Requirement already satisfied: pytz>=2020.1 in /usr/local/lib/python3.10/dist-packages (from pandas->datasets) (2023.3.post1)\n"
          ]
        }
      ],
      "source": [
        "import sys\n",
        "!{sys.executable} -m pip install transformers datasets evaluate rouge_score"
      ]
    },
    {
      "cell_type": "markdown",
      "metadata": {
        "id": "GBlNg4fH0Rwz"
      },
      "source": [
        "## Question Answering\n",
        "\n",
        "[roberta-based model](https://huggingface.co/deepset/roberta-base-squad2) trained on the [SQuAD2.0](https://huggingface.co/datasets/squad_v2) question answering data set\n",
        "\n",
        "Requires two inputs\n",
        "* a question\n",
        "* context - where to find the answer\n",
        "\n",
        "Returns\n",
        "* an answer\n",
        "* a location where you can find the answer in the context"
      ]
    },
    {
      "cell_type": "code",
      "execution_count": 55,
      "metadata": {
        "id": "12fXB2rY0Rwz"
      },
      "outputs": [],
      "source": [
        "times_delphic_story = \"\"\"\n",
        "How does the Supreme Court ruling on affirmative action affect Drake?\n",
        "The answer has little to do with affirmative action.\n",
        "Over the summer, the Supreme Court ruled against the admissions programs of Harvard University and the University of North Carolina in an affirmative action decision. Before the decision, race already wasn’t a factor in Drake University admissions, according to Provost Sue Mattison.\n",
        "“Affirmative action, with regards to admissions, only impacts those really highly selective institutions that limit the number of incoming students,” Mattison said. “So that doesn’t apply to Drake and most institutions across the country.”\n",
        "She said schools like Harvard and UNC have enough applicants that they can pick and choose which applicants fill a certain number of spots.\n",
        "Drake’s admissions team found that the university has “admitted all students who have a 3.0 high school GPA or [higher],” Mattison said. “Even though we’ve asked for a person’s race on the admissions form, it does not have an impact on the admissions decision, and it doesn’t displace anybody.”\n",
        "Possible effects of the court’s ruling\n",
        "Mark Kende, director of Drake’s Constitutional Law Center, said the Supreme Court “basically has embraced an idea that it calls colorblindness.”\n",
        "“If you take their principle of colorblindness and extend it beyond universities, to other places, it could raise some problems,” Kende said. “But we don’t know yet.”\n",
        "Financial aid programs that prioritize applicants of a particular race over another are more vulnerable after the court’s decision, according to Kende. He said it’s not clear what impact the decision might have on university hiring practices that consider an employee’s race, as well as corporations’ diversity programs.\n",
        "Following the Supreme Court’s decision, Missouri Attorney General Andrew Bailey said Missouri institutions subject to the U.S. Constitution or Title VI must stop using race-based standards “to make decisions about things like admissions, scholarships, programs and employment.”\n",
        "The University of Missouri System said that “a small number of our programs and scholarships have used race/ethnicity as a factor for admissions and scholarships,” and that “these practices will be discontinued.”\n",
        "Drake is taking a different approach in the wake of the affirmative action decision. The university is monitoring maybe about forty to fifty scholarships, according to Ryan Zantingh, Drake’s director of financial aid. This is more in anticipation of a comparable case on financial aid that considers race, rather than a reaction to the affirmative action ruling.\n",
        "Mattison said she thinks Drake is still trying to determine how the Supreme Court decision will impact Drake’s Crew Scholars program, which is for incoming students of color.\n",
        "“There are ways that we can ensure that we continue Crew Scholars while still being compliant,” Mattison said.\n",
        "Donors for some Drake scholarships specified that they wanted to support a student of color or a woman in a STEM field, Mattison said.\n",
        "“And so we’re still working through what that actually means, and what we have to do to continue to achieve the values that we expect,” Mattison said. “There are ways that we can change the wording of some of the scholarships.”\n",
        "Like all students, students of color may qualify for scholarships for first-generation students or students with financial need.\n",
        "“There’s a lot of overlap between students of color and other areas where financial aid is directed,” Zantingh said. “Scholarship resources can be directed [to financial need or first generation status] and still reach the same students.”\n",
        "Even if there is a ruling on financial aid that’s comparable to the affirmative action decision, Zantingh doesn’t expect a large impact on Drake financial aid from either decision.\n",
        "“There may be some implications, but I think the overall general effect on students will be little to none,” Zantingh said.\n",
        "Zantingh gave an example of scholarship language offered by legal counsel. If a scholarship is for only minority students, it might become a scholarship that gives preference to students who demonstrate a commitment to Drake’s vision for diversity on campus.\n",
        "“If a white student is actively involved in anti-racist leadership here on campus, certainly they would fit that description then, wouldn’t they?” Zantingh said. “Basically, the language would not seek to exclude any particular protected class categorically.”\n",
        "In some cases, a donor might be unwilling to change the scholarship’s language or be deceased, Zantingh said. If a donor is deceased, a judge might approve changes. He said he doesn’t expect Drake to cut any of the scholarships it is monitoring.\n",
        "“The scholarship criteria would have to change, or the dollars would have to be repurposed in another way. Per either the donor or a court’s approval,” Zantingh said.\n",
        "Race can still play a role in college admissions\n",
        "The Supreme Court left at least one legal path open for race to play a role in college admissions.\n",
        "When admitting students, universities are allowed to consider “an applicant’s discussion of how race affected his or her life, be it through discrimination, inspiration or otherwise,” Chief Justice John Roberts wrote in the Court’s decision. However, “the student must be treated based on his or her experiences as an individual — not on the basis of race.”\n",
        "A student’s story can emerge without Drake asking for it, according to Dean of Admissions Joel Johnson.\n",
        "“Especially if they’ve overcome a lot, or it’s so key to their identity… it’ll come out on its own,” Johnson said. “I don’t know if I could say the Supreme Court protected it. They couldn’t have stopped it, honestly.”\n",
        "Johnson said that caring about diversity also means intentionally recruiting a diverse group of students. He said students can’t join Drake if they never apply in the first place.\n",
        "In the wake of the Supreme Court’s decision on affirmative action, The Times-Delphic is publishing a series. Check next week’s paper for an article about legacy admissions and legacy financial aid with a Drake focus.\n",
        "\n",
        "\"\"\""
      ]
    },
    {
      "cell_type": "code",
      "execution_count": 56,
      "metadata": {
        "id": "oew79r_v0Rw1",
        "outputId": "1ea56c2c-c3df-463d-8347-fb49c25c9943",
        "colab": {
          "base_uri": "https://localhost:8080/"
        }
      },
      "outputs": [
        {
          "output_type": "stream",
          "name": "stdout",
          "text": [
            "{'score': 0.14442119002342224, 'start': 1416, 'end': 1433, 'answer': 'we don’t know yet'}\n"
          ]
        }
      ],
      "source": [
        "from transformers import pipeline\n",
        "\n",
        "model_name = \"deepset/roberta-base-squad2\"\n",
        "\n",
        "# a) Get predictions\n",
        "nlp = pipeline('question-answering', model=model_name, tokenizer=model_name)\n",
        "QA_input = {\n",
        "    'question': 'Can colleges take race into account when making admissions decisions?',\n",
        "    'context': times_delphic_story\n",
        "}\n",
        "res = nlp(QA_input)\n",
        "print(res)"
      ]
    },
    {
      "cell_type": "code",
      "execution_count": 57,
      "metadata": {
        "id": "3j2HI7aG0Rw2",
        "outputId": "9028d7ba-29e9-41b0-b73c-a6e6dca7af2d",
        "colab": {
          "base_uri": "https://localhost:8080/"
        }
      },
      "outputs": [
        {
          "output_type": "stream",
          "name": "stdout",
          "text": [
            "we don’t know yet\n",
            "Court “basically has embraced an idea that it calls colorblindness.”\n",
            "“If you take their principle of colorblindness and extend it beyond universities, to other places, it could raise some problems,” Kende said. “But we don’t know yet.”\n",
            "Financial aid programs that prioritize applicants of a particula\n"
          ]
        }
      ],
      "source": [
        "print( times_delphic_story[1416:1433] )\n",
        "print( times_delphic_story[1200:1500] )"
      ]
    },
    {
      "cell_type": "markdown",
      "metadata": {
        "id": "bsfHLPqV0Rw3"
      },
      "source": [
        "### Let's try another question"
      ]
    },
    {
      "cell_type": "code",
      "execution_count": 58,
      "metadata": {
        "id": "GH_yufwe0Rw3",
        "outputId": "9d6298f3-99c1-4355-c53d-7792ca869113",
        "colab": {
          "base_uri": "https://localhost:8080/"
        }
      },
      "outputs": [
        {
          "output_type": "stream",
          "name": "stdout",
          "text": [
            "{'score': 0.03547855466604233, 'start': 671, 'end': 686, 'answer': 'Harvard and UNC'}\n"
          ]
        }
      ],
      "source": [
        "QA_input2 = {\n",
        "    'question' : \"Which kinds of schools are most affected by the Supreme Court's affirmative action ruling?\",\n",
        "    'context': times_delphic_story\n",
        "}\n",
        "res = nlp(QA_input2)\n",
        "print(res)"
      ]
    },
    {
      "cell_type": "code",
      "execution_count": 59,
      "metadata": {
        "id": "94gMVbgp0Rw3",
        "outputId": "47d1a123-7fd6-4aef-a21a-fd5e448ba707",
        "colab": {
          "base_uri": "https://localhost:8080/"
        }
      },
      "outputs": [
        {
          "output_type": "stream",
          "name": "stdout",
          "text": [
            "Harvard and UNC\n",
            " institutions that limit the number of incoming students,” Mattison said. “So that doesn’t apply to Drake and most institutions across the country.”\n",
            "She said schools like Harvard and UNC have enough applicants that they can pick and choose which applicants fill a certain number of spots.\n",
            "Drake’s adm\n"
          ]
        }
      ],
      "source": [
        "print( times_delphic_story[671:686] )\n",
        "print( times_delphic_story[500:800] )"
      ]
    },
    {
      "cell_type": "markdown",
      "metadata": {
        "id": "D7fl6peA0Rw4"
      },
      "source": [
        "The answer I was hoping for was `\"highly selective institutions\"`."
      ]
    },
    {
      "cell_type": "markdown",
      "metadata": {
        "id": "Z3FdvKnZ0Rw4"
      },
      "source": [
        "### How you ask the question seems to have an impact on the answer it finds"
      ]
    },
    {
      "cell_type": "code",
      "execution_count": 60,
      "metadata": {
        "id": "R4chjw_V0Rw4",
        "outputId": "5b31eef9-0986-49b9-c07c-d23f3c8c1dbe",
        "colab": {
          "base_uri": "https://localhost:8080/"
        }
      },
      "outputs": [
        {
          "output_type": "stream",
          "name": "stdout",
          "text": [
            "{'score': 0.14366403222084045, 'start': 1416, 'end': 1433, 'answer': 'we don’t know yet'}\n"
          ]
        }
      ],
      "source": [
        "QA_input3 = {\n",
        "    'question' : \"Does Drake consider race when deciding to admit a student?\",\n",
        "    'context': times_delphic_story\n",
        "}\n",
        "res = nlp(QA_input3)\n",
        "print(res)"
      ]
    },
    {
      "cell_type": "code",
      "execution_count": 61,
      "metadata": {
        "id": "4sMEqFxc0Rw4",
        "outputId": "176eb0d0-1e3d-44d3-e138-11522a4b5317",
        "colab": {
          "base_uri": "https://localhost:8080/"
        }
      },
      "outputs": [
        {
          "output_type": "stream",
          "name": "stdout",
          "text": [
            "{'score': 0.10744310915470123, 'start': 995, 'end': 1048, 'answer': 'it does not have an impact on the admissions decision'}\n"
          ]
        }
      ],
      "source": [
        "QA_input4 = {\n",
        "    'question' : \"At Drake, does race have an impact on the admissions decision?\",\n",
        "    'context': times_delphic_story\n",
        "}\n",
        "res = nlp(QA_input4)\n",
        "print(res)"
      ]
    },
    {
      "cell_type": "markdown",
      "metadata": {
        "id": "NLDXoBMs0Rw4"
      },
      "source": [
        "## Discussion question:\n",
        "\n",
        "What are some ways you can think of for evaluating question answering models?"
      ]
    },
    {
      "cell_type": "markdown",
      "metadata": {
        "id": "5x3YtGeE0Rw5"
      },
      "source": [
        "## Applied Exploration\n",
        "\n",
        "Choose a Question Answering model from Hugging Face (you may use the one we used in class). Set up an experiment to answer the following question: How does the length of the context affect the performance of the model?\n",
        "\n",
        "Answer the following questions:\n",
        "* What dataset(s) did you use (provide links)?\n",
        "* Describe the kinds of questions and answers that appear in this data. How do the lengths of the context vary? Maybe provide a histogram that describes this.\n",
        "* What metrics did you use? Why did you choose those?\n",
        "* What were your results? Describe what you found and any additional take-aways."
      ]
    },
    {
      "cell_type": "markdown",
      "source": [
        "#Evaluation Methods\n",
        "The most commond ways to evalute the QA model would be with accuracy, F1 score, recall\n",
        "\n",
        "#Exploration\n",
        "I am using the same model but with different scripts. The three scripts I am using, come from Aristotle and consists of quotes and essays. The first one is a short quote and the second and third are essays that increase in length."
      ],
      "metadata": {
        "id": "ehFwnENI2ccn"
      }
    },
    {
      "cell_type": "code",
      "source": [
        "Excellence = \"\"\"Excellence is never an accident. It is always the result of high intention, sincere effort, and intelligent execution; it represents the wise choice of many alternatives - choice, not chance, determines your destiny.\"\"\""
      ],
      "metadata": {
        "id": "G8IKTN_C0qBx"
      },
      "execution_count": 62,
      "outputs": []
    },
    {
      "cell_type": "code",
      "source": [
        "len(Excellence)"
      ],
      "metadata": {
        "id": "6o0kTok10rEY",
        "outputId": "003760df-91de-4fc1-f490-bc2ad9c26bcf",
        "colab": {
          "base_uri": "https://localhost:8080/"
        }
      },
      "execution_count": 63,
      "outputs": [
        {
          "output_type": "execute_result",
          "data": {
            "text/plain": [
              "216"
            ]
          },
          "metadata": {},
          "execution_count": 63
        }
      ]
    },
    {
      "cell_type": "code",
      "source": [
        "QA_input5 = {\n",
        "    'question' : \"What is the root cause of excellence?\",\n",
        "    'context': Excellence\n",
        "}\n",
        "res = nlp(QA_input5)\n",
        "print(res)"
      ],
      "metadata": {
        "id": "XYiRTFgw0q8N",
        "outputId": "5d0a15c2-efb8-4b7a-da5a-75e52fcc98f6",
        "colab": {
          "base_uri": "https://localhost:8080/"
        }
      },
      "execution_count": 64,
      "outputs": [
        {
          "output_type": "stream",
          "name": "stdout",
          "text": [
            "{'score': 0.6088787317276001, 'start': 60, 'end': 117, 'answer': 'high intention, sincere effort, and intelligent execution'}\n"
          ]
        }
      ]
    },
    {
      "cell_type": "code",
      "source": [
        "Humanity = \"\"\"Since every boundary has two sides, the human image is delineated also from the outside, the side of the things that threaten it. This is shown to us through the feeling of fear. As Aristotle says twice in the Rhetoric, what we pity in others, we fear for ourselves (1382b 26, 1386a 27). In our mounting fear that Oedipus will come to know the truth about himself, we feel that something of our own is threatened. Tragic fear, exactly like tragic pity, and either preceding it or simultaneous with it, shows us what we are and are unwilling to lose. It makes no sense to say that Oedipus’ passion for truth is a flaw, since that is the very quality that makes us afraid on his behalf. Tragedy is never about flaws, and it is only the silliest of mistranslations that puts that claim in Aristotle’s mouth. Tragedy is about central and indispensable human attributes, disclosed to us by the pity that draws us toward them and the fear that makes us recoil from what threatens them.\n",
        "\n",
        "Because the suffering of the tragic figure displays the boundaries of what is human, every tragedy carries the sense of universality. Oedipus or Antigone or Lear or Othello is somehow every one of us, only more so. But the mere mention of these names makes it obvious that they are not generalized characters, but altogether particular. And if we did not feel that they were genuine individuals, they would have no power to engage our emotions. It is by their particularity that they make their marks on us, as though we had encountered them in the flesh. It is only through the particularity of our feelings that our bonds with them emerge. What we care for and cherish makes us pity them and fear for them, and thereby the reverse also happens: our feelings of pity and fear make us recognize what we care for and cherish. When the tragic figure is destroyed it is a piece of ourselves that is lost. Yet we never feel desolation at the end of a tragedy, because what is lost is also, by the very same means, found. I am not trying to make a paradox, but to describe a marvel. It is not so strange that we learn the worth of something by losing it; what is astonishing is what the tragedians are able to achieve by making use of that common experience. They lift it up into a state of wonder.\n",
        "\n",
        "Within our small group of exemplary poetic works, there are two that do not have the tragic form, and hence do not concentrate all their power into putting us in a state of wonder, but also depict the state of wonder among their characters and contain speeches that reflect on it. They are Homer’s Iliad and Shakespeare’s Tempest. (Incidentally, there is an excellent small book called Woe or Wonder, the Emotional Effect of Shakespearean Tragedy, by J. V. Cunningham, that demonstrates the continuity of the traditional understanding of tragedy from Aristotle to Shakespeare.) The first poem in our literary heritage, and Shakespeare’s last play, both belong to a conversation of which Aristotle’s Poetics is the most prominent part.\"\"\""
      ],
      "metadata": {
        "id": "Uagyb93i0qhN"
      },
      "execution_count": 65,
      "outputs": []
    },
    {
      "cell_type": "code",
      "source": [
        "len(Humanity)"
      ],
      "metadata": {
        "id": "54SVdsSz0u4o",
        "outputId": "93d206e7-30bc-43c1-cf5e-60f9a298c769",
        "colab": {
          "base_uri": "https://localhost:8080/"
        }
      },
      "execution_count": 66,
      "outputs": [
        {
          "output_type": "execute_result",
          "data": {
            "text/plain": [
              "3010"
            ]
          },
          "metadata": {},
          "execution_count": 66
        }
      ]
    },
    {
      "cell_type": "code",
      "source": [
        "QA_input6 = {\n",
        "    'question' : \"What does he mean by human boundaries?\",\n",
        "    'context': Humanity\n",
        "}\n",
        "res = nlp(QA_input6)\n",
        "print(res)"
      ],
      "metadata": {
        "id": "s8dZSc_70v0u",
        "outputId": "1103f23c-cb1e-4121-ec05-f9b43c94a1cf",
        "colab": {
          "base_uri": "https://localhost:8080/"
        }
      },
      "execution_count": 68,
      "outputs": [
        {
          "output_type": "stream",
          "name": "stdout",
          "text": [
            "{'score': 0.22391843795776367, 'start': 25, 'end': 34, 'answer': 'two sides'}\n"
          ]
        }
      ]
    },
    {
      "cell_type": "code",
      "source": [
        "Wonder = \"\"\"In both the Iliad and the Tempest there are characters with arts that in some ways resemble that of the poet. It is much noticed that Prospero’s farewell to his art coincides with Shakespeare’s own, but it may be less obvious that Homer has put into the Iliad a partial representation of himself. But the last 150 lines of Book XVIII of the Iliad describe the making of a work of art by Hephaestus. I will not consider here what is depicted on the shield of Achilles, but only the meaning in the poem of the shield itself. In Book XVIII, Achilles has realized what mattered most to him when it is too late. The Greeks are driven back to their ships, as Achilles had prayed they would be, and know that they are lost without him. “But what pleasure is this to me now,” he says to his mother, “when my beloved friend is dead, Patroclus, whom I cherished beyond all friends, as the equal of my own soul; I am bereft of him” (80-82). Those last words also mean “I have killed him.” In his desolation, Achilles has at last chosen to act. “I will accept my doom,” he says (115 ). Thetis goes to Hephaestus because, in spite of his resolve, Achilles has no armor in which to meet his fate. She tells her son’s story, concluding “he is lying on the ground, anguishing at heart” (461). Her last word, anguishing, acheuôn, is built on Achilles’ name.\n",
        "\n",
        "Now listen to what Hephaestus says in reply: “Take courage, and do not let these things distress you in your heart. Would that I had the power to hide him far away from death and the sounds of grief when grim fate comes to him, but I can see that beautiful armor surrounds him, of such a kind that many people, one after another, who look on it, will wonder” (463-67). Is it not evident that this source of wonder that surrounds Achilles, that takes the sting from his death even in a mother’s heart, is the Iliad itself? But how does the Iliad accomplish this?\n",
        "\n",
        "Let us shift our attention for a moment to the Tempest. The character Alonso, in the power of the magician Prospero, spends the length of the play in the illusion that his son has drowned. To have him alive again, Alonso says, “I wish Myself were mudded in that oozy bed Where my son lies” (V, i, 150-2). But he has already been there for three hours in his imagination; he says earlier “my son i’ th’ ooze is bedded; and I’ll seek him deeper than e’er plummet sounded And with him there lie mudded” (III, iii, 100-2). What is this muddy ooze? It is Alonso’s grief, and his regret for exposing his son to danger, and his self-reproach for his own past crime against Prospero and Prospero’s baby daughter, which made his son a just target for divine retribution; the ooze is Alonso’s repentance, which feels futile to him since it only comes after he has lost the thing he cares most about. But the spirit Ariel sings a song to Alonso’s son: “Full fathom five thy father lies; Of his bones are coral made; Those are pearls that were his eyes; Nothing of him that doth fade But doth suffer a sea change Into something rich and strange” (I, ii, 397-402). Alonso’s grief is aroused by an illusion, an imitation of an action, but his repentance is real, and is slowly transforming him into a different man. Who is this new man? Let us take counsel from the “honest old councilor” Gonzalo, who always has the clearest sight in the play. He tells us that on this voyage, when so much seemed lost, every traveller found himself “When no man was his own” (V, i, 206-13). The something rich and strange into which Alonso changes is himself, as he was before his life took a wrong turn. Prospero’s magic does no more than arrest people in a potent illusion; in his power they are “knit up In their distractions” (III, iii, 89-90). When released, he says, “they shall be themselves” (V, i, 32).\n",
        "\n",
        "On virtually every page of the Tempest, the word wonder appears, or else some synonym for it. Miranda’s name is Latin for wonder, her favorite adjective brave seems to mean both good and out-of-the-ordinary, and the combination rich and strange means the same. What is wonder? J. V. Cunningham describes it in the book I mentioned as the shocked limit of all feeling, in which fear, sorrow, and joy can all merge. There is some truth in that, but it misses what is wonderful or wondrous about wonder. It suggests that in wonder our feelings are numbed and we are left limp, wrung dry of all emotion. But wonder is itself a feeling, the one to which Miranda is always giving voice, the powerful sense that what is before one is both strange and good. Wonder does not numb the other feelings; what it does is dislodge them from their habitual moorings. The experience of wonder is the disclosure of a sight or thought or image that fits no habitual context of feeling or understanding, but grabs and holds us by a power borrowed from nothing apart from itself. The two things that Plotinus says characterize beauty, that the soul recognizes it at first glance and spontaneously gives welcome to it, equally describe the experience of wonder. The beautiful always produces wonder, if it is seen as beautiful, and the sense of wonder always sees beauty.\n",
        "\n",
        "But are there really no wonders that are ugly? The monstrosities that used to be exhibited in circus side-shows are wonders too, are they not? In the Tempest, three characters think first of all of such spectacles when they lay eyes on Caliban (II, ii, 28-31; V, i, 263-6), but they are incapable of wonder, since they think they know everything that matters already. A fourth character in the same batch, who is drunk but not insensible, gives way at the end of Act II to the sense that this is not just someone strange and deformed, nor just a useful servant, but a brave monster. But Stephano is not like the holiday fools who pay to see monstrosities like two-headed calves or exotic sights like wild men of Borneo. I recall an aquarium somewhere in Europe that had on display an astoundingly ugly catfish. People came casually up to its tank, were startled, made noises of disgust, and turned away. Even to be arrested before such a sight feels in some way perverse and has some conflict in the feeling it arouses, as when we stare at the victims of a car wreck. The sight of the ugly or disgusting, when it is felt as such, does not have the settled repose or willing surrender that are characteristic of wonder. “Wonder is sweet,” as Aristotle says.\n",
        "\n",
        "This sweet contemplation of something outside us is exactly opposite to Alonso’s painful immersion in his own remorse, but in every other respect he is a model of the spectator of a tragedy. We are in the power of another for awhile, the sight of an illusion works real and durable changes in us, we merge into something rich and strange, and what we find by being absorbed in the image of another is ourselves. As Alonso is shown a mirror of his soul by Prospero, we are shown a mirror of ourselves in Alonso, but in that mirror we see ourselves as we are not in witnessing the Tempest, but in witnessing .a tragedy. The Tempest is a beautiful play, suffused with wonder as well as with reflections on wonder, but it holds the intensity of the tragic experience at a distance. Homer, on the other hand, has pulled off a feat even more astounding than Shakespeare’s, by imitating the experience of a spectator of tragedy within a story that itself works on us as a tragedy.\n",
        "\n",
        "In Book XXIV of the Iliad, forms of the word tham bos, amazement, occur three times in three lines (482-4), when Priam suddenly appears in the hut of Achilles and “kisses the terrible man-slaughtering hands that killed his many sons” (478-9), but this is only the prelude to the true wonder. Achilles and Priam cry together, each for his own grief, as each has cried so often before, but this time a miracle happens. Achilles’ grief is transformed into satisfaction, and cleansed from his chest and his hands (513-14). This is all the more remarkable, since Achilles has for days been repeatedly trying to take out his raging grief on Hector’s dead body. The famous first word of the Iliad, mÍnis, wrath, has come back at the beginning of Book XXIV in the participle meneainôn (22), a constant condition that Lattimore translates well as “standing fury.” But all this hardened rage evaporates in one lamentation, just because Achilles shares it with his enemy’s father. Hermes had told Priam to appeal to Achilles in the names of his father, his mother, and his child, “in order to stir his heart” (466-7), but Priam’s focussed misery goes straight to Achilles’ heart without diluting the effect. The first words out of Priam’s mouth are “remember your father” (486). Your father deserves pity, Priam says, so “pity me with him in mind, since I am more pitiful even than he; I have dared what no other mortal on earth ever dared, to stretch out my lips to the hand of the man who murdered my children” (503-4).\n",
        "\n",
        "Achilles had been pitying Patroclus, but mainly himself, but the feeling to which Priam has directed him now is exactly the same as tragic pity. Achilles is looking at a human being who has chosen to go to the limits of what is humanly possible to search for something that matters to him. The wonder of this sight takes Achilles out of his self-pity, but back into himself as a son and as a sharer of human misery itself. All his old longings for glory and revenge fall away, since they have no place in the sight in which he is now absorbed. For the moment, the beauty of Priam’s terrible action re-makes the world, and determines what matters and what doesn’t. The feeling in this moment out of time is fragile, and Achilles feels it threatened by tragic fear. In the strange fusion of this scene, what Achilles fears is himself; “don’t irritate me any longer now, old man,” he says when Priam tries to hurry along the return of Hector’s body, “don’t stir up my heart in its griefs any more now, lest I not spare even you yourself’ (560, 568-9). Finally, after they share a meal, they just look at each other. “Priam wondered at Achilles, at how big he was and what he was like, for he seemed equal to the gods, but Achilles wondered at Trojan Priam, looking on the worthy sight of him and hearing his story” (629-32). In the grip of wonder they do not see enemies. They see truly. They see the beauty in two men who have lost almost everything. They see a son a father should be proud of and a father a son should revere.\n",
        "\n",
        "The action of the Iliad stretches from Achilles’ deliberate choice to remove himself from the war to his deliberate choice to return Hector’s body to Priam. The passion of the Iliad moves from anger through pity and fear to wonder. Priam’s wonder lifts him for a moment out of the misery he is enduring, and permits him to see the cause of that misery as still something good. Achilles’ wonder is similar to that of Priam, since Achilles too sees the cause of his anguish in a new light, but in his case this takes several steps. When Priam first appears in his hut, Homer compares the amazement this produces to that with which people look at a murderer who has fled from his homeland (480-84). This is a strange comparison, and it recalls the even stranger fact disclosed one book earlier that Patroclus, whom everyone speaks of as gentle and kind-hearted (esp. XVII, 670-71), who gives his life because he cannot bear to see his friends destroyed to satisfy Achilles’ anger, this same Patroclus began his life as a murderer in his own country, and came to Achilles’ father Peleus for a second chance at life. When Achilles remembers his father, he is remembering the man whose kindness brought Patroclus into his life, so that his tears, now for his father, now again for Patroclus (XXIV, 511-12), merge into a single grief. But the old man crying with him is a father too, and Achilles’ tears encompass Priam along with Achilles’ own loved ones. Finally, since Priam is crying for Hector, Achilles’ grief includes Hector himself, and so it turns his earlier anguish inside out. If Priam is like Achilles’ father, then Hector must come to seem to Achilles to be like a brother, or to be like himself.\n",
        "\n",
        "Achilles cannot be brought to such a reflection by reasoning, nor do the feelings in which he has been embroiled take him in that direction. Only Priam succeeds in unlocking Achilles’ heart, and he does so by an action, by kissing his hand. From the beginning of Book XVIII (23, 27, 33), Achilles’ hands are referred to over and over and over, as he uses them to pour dirt on his head, to tear his hair, and to kill every Trojan he can get his hands on. Hector, who must go up against those hands, is mesmerized by them; they are like a fire, he says, and repeats it. “His hands seem like a fire” (XX, 371-2). After Priam kisses Achilles’ hand, and after they cry together, Homer tells us that the desire for lamentation went out of Achilles’ chest and out of his hands (XXIV, 514). His murderous, manslaughtering hands are stilled by a grief that finally has no enemy to take itself out on. When, in Book XVIII, Achilles had accepted his doom (115), it was part of a bargain; “I will lie still when I am dead,” he had said, “but now I must win splendid glory” (121). But at the end of the poem, Achilles has lost interest in glory. He is no longer eaten up by the desire to be lifted above Hector and Priam, but comes to rest in just looking at them for what they are. Homer does surround Achilles in armor that takes the sting from his misery and from his approaching death, by working that misery and death into the wholeness of the Iliad. But the Iliad is, as Aristotle says, the prototype of tragedy; it is not a poem that aims at conferring glory but a poem that bestows the gift of wonder.\n",
        "\n",
        "Like Alonso in the Tempest, Achilles ultimately finds himself. Of the two, Achilles is the closer model of the spectator of a tragedy, because Alonso plunges deep into remorse before he is brought back into the shared world. Achilles is lifted directly out of himself, into the shared world, in the act of wonder, and sees his own image in the sorrowing father in front of him. This is exactly what a tragedy does to us, and exactly what we experience in looking at Achilles. In his loss, we pity him. In his fear of himself, on Priam’s behalf, we fear for him, that he might lose his new-won humanity. In his capacity to be moved by the wonder of a suffering fellow human, we wonder at him. At the end of the Iliad, as at the end of every tragedy, we are washed in the beauty of the human image, which our pity and our fear have brought to sight. The five marks of tragedy that we learned of from Aristotle’s Poetics–that it imitates an action, arouses pity and fear, displays the human image as such, ends in wonder, and is inherently beautiful–give a true and powerful account of the tragic pleasure.\"\"\""
      ],
      "metadata": {
        "id": "7DNc8g350ydZ"
      },
      "execution_count": 69,
      "outputs": []
    },
    {
      "cell_type": "code",
      "source": [
        "len(Wonder)"
      ],
      "metadata": {
        "id": "MPWC-8Vk0x5e",
        "outputId": "f68b5aef-d210-4388-c81b-2223841f92bc",
        "colab": {
          "base_uri": "https://localhost:8080/"
        }
      },
      "execution_count": 70,
      "outputs": [
        {
          "output_type": "execute_result",
          "data": {
            "text/plain": [
              "14818"
            ]
          },
          "metadata": {},
          "execution_count": 70
        }
      ]
    },
    {
      "cell_type": "code",
      "source": [
        "QA_input7 = {\n",
        "    'question' : \"How would you define human wonder?\",\n",
        "    'context': Wonder\n",
        "}\n",
        "res = nlp(QA_input7)\n",
        "print(res)"
      ],
      "metadata": {
        "id": "WRJcnNs90zsB",
        "outputId": "dab6612c-c037-47ce-99f8-67a23e3ceb10",
        "colab": {
          "base_uri": "https://localhost:8080/"
        }
      },
      "execution_count": 72,
      "outputs": [
        {
          "output_type": "stream",
          "name": "stdout",
          "text": [
            "{'score': 0.22341831028461456, 'start': 7418, 'end': 7426, 'answer': 'tham bos'}\n"
          ]
        }
      ]
    },
    {
      "cell_type": "markdown",
      "source": [
        "Overall the difference in responces could be from the actual script it is searching through and the type of question I asked. The short script seems to be the most accurate in terms of the answer it gives."
      ],
      "metadata": {
        "id": "lhSFFKiD286_"
      }
    }
  ],
  "metadata": {
    "celltoolbar": "Slideshow",
    "colab": {
      "provenance": []
    },
    "kernelspec": {
      "display_name": "Python 3 (ipykernel)",
      "language": "python",
      "name": "python3"
    },
    "language_info": {
      "codemirror_mode": {
        "name": "ipython",
        "version": 3
      },
      "file_extension": ".py",
      "mimetype": "text/x-python",
      "name": "python",
      "nbconvert_exporter": "python",
      "pygments_lexer": "ipython3",
      "version": "3.10.6"
    }
  },
  "nbformat": 4,
  "nbformat_minor": 0
}